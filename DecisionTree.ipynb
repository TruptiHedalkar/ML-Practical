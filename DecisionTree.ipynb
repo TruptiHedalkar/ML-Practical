{
  "nbformat": 4,
  "nbformat_minor": 0,
  "metadata": {
    "colab": {
      "provenance": [],
      "authorship_tag": "ABX9TyPgHY7UuazvvRCGckYLNZ9R",
      "include_colab_link": true
    },
    "kernelspec": {
      "name": "python3",
      "display_name": "Python 3"
    },
    "language_info": {
      "name": "python"
    }
  },
  "cells": [
    {
      "cell_type": "markdown",
      "metadata": {
        "id": "view-in-github",
        "colab_type": "text"
      },
      "source": [
        "<a href=\"https://colab.research.google.com/github/TruptiHedalkar/ML-Practical/blob/main/DecisionTree.ipynb\" target=\"_parent\"><img src=\"https://colab.research.google.com/assets/colab-badge.svg\" alt=\"Open In Colab\"/></a>"
      ]
    },
    {
      "cell_type": "code",
      "execution_count": 1,
      "metadata": {
        "colab": {
          "base_uri": "https://localhost:8080/"
        },
        "id": "eLCow_SyZ-5i",
        "outputId": "788c071b-eccf-4367-bb49-bdc6f10fe45a"
      },
      "outputs": [
        {
          "output_type": "stream",
          "name": "stdout",
          "text": [
            "       age workclass  fnlwgt     education  education.num      marital.status  \\\n",
            "0       90         ?   77053       HS-grad              9             Widowed   \n",
            "1       82   Private  132870       HS-grad              9             Widowed   \n",
            "2       66         ?  186061  Some-college             10             Widowed   \n",
            "3       54   Private  140359       7th-8th              4            Divorced   \n",
            "4       41   Private  264663  Some-college             10           Separated   \n",
            "...    ...       ...     ...           ...            ...                 ...   \n",
            "32556   22   Private  310152  Some-college             10       Never-married   \n",
            "32557   27   Private  257302    Assoc-acdm             12  Married-civ-spouse   \n",
            "32558   40   Private  154374       HS-grad              9  Married-civ-spouse   \n",
            "32559   58   Private  151910       HS-grad              9             Widowed   \n",
            "32560   22   Private  201490       HS-grad              9       Never-married   \n",
            "\n",
            "              occupation   relationship   race     sex  capital.gain  \\\n",
            "0                      ?  Not-in-family  White  Female             0   \n",
            "1        Exec-managerial  Not-in-family  White  Female             0   \n",
            "2                      ?      Unmarried  Black  Female             0   \n",
            "3      Machine-op-inspct      Unmarried  White  Female             0   \n",
            "4         Prof-specialty      Own-child  White  Female             0   \n",
            "...                  ...            ...    ...     ...           ...   \n",
            "32556    Protective-serv  Not-in-family  White    Male             0   \n",
            "32557       Tech-support           Wife  White  Female             0   \n",
            "32558  Machine-op-inspct        Husband  White    Male             0   \n",
            "32559       Adm-clerical      Unmarried  White  Female             0   \n",
            "32560       Adm-clerical      Own-child  White    Male             0   \n",
            "\n",
            "       capital.loss  hours.per.week native.country income  \n",
            "0              4356              40  United-States  <=50K  \n",
            "1              4356              18  United-States  <=50K  \n",
            "2              4356              40  United-States  <=50K  \n",
            "3              3900              40  United-States  <=50K  \n",
            "4              3900              40  United-States  <=50K  \n",
            "...             ...             ...            ...    ...  \n",
            "32556             0              40  United-States  <=50K  \n",
            "32557             0              38  United-States  <=50K  \n",
            "32558             0              40  United-States   >50K  \n",
            "32559             0              40  United-States  <=50K  \n",
            "32560             0              20  United-States  <=50K  \n",
            "\n",
            "[32561 rows x 15 columns]\n"
          ]
        }
      ],
      "source": [
        "import pandas as pd\n",
        "from sklearn.tree import DecisionTreeClassifier\n",
        "from sklearn.model_selection import train_test_split\n",
        "from sklearn.metrics import accuracy_score\n",
        "import matplotlib.pyplot as ply\n",
        "data = pd.read_csv(\"../adult.csv\")\n",
        "print(data)\n"
      ]
    },
    {
      "cell_type": "code",
      "source": [
        "from sklearn.preprocessing import LabelEncoder\n",
        "for column in data:\n",
        "  encoder = LabelEncoder()\n",
        "  data[column] = encoder.fit_transform(data[column])\n",
        "X = data.drop('income', axis=1)\n",
        "y = data['income']\n",
        "# Split data into training and testing sets\n",
        "X_train, X_test, y_train, y_test = train_test_split(X, y, test_size=0.3, random_state=42)\n"
      ],
      "metadata": {
        "id": "mvdcoAKyjfHQ"
      },
      "execution_count": 2,
      "outputs": []
    },
    {
      "cell_type": "code",
      "source": [
        "clf = DecisionTreeClassifier(random_state=42,max_depth=15)\n",
        "clf.fit(X_train, y_train)\n",
        "# Make predictions and evaluate the model\n",
        "y_pred = clf.predict(X_test)\n",
        "accuracy = accuracy_score(y_test, y_pred)\n",
        "print(f\"Accuracy: {accuracy:.2f}\")"
      ],
      "metadata": {
        "colab": {
          "base_uri": "https://localhost:8080/"
        },
        "id": "5OzIpBvPj9EO",
        "outputId": "a5136d47-9926-4b46-893e-217c0ad69f3c"
      },
      "execution_count": 3,
      "outputs": [
        {
          "output_type": "stream",
          "name": "stdout",
          "text": [
            "Accuracy: 0.84\n"
          ]
        }
      ]
    },
    {
      "cell_type": "code",
      "source": [
        "from sklearn.metrics import accuracy_score, confusion_matrix, precision_score, recall_score, f1_score\n",
        "accuracy = accuracy_score(y_test, y_pred)\n",
        "conf_matrix = confusion_matrix(y_test, y_pred)\n",
        "precision = precision_score(y_test, y_pred, average='weighted')\n",
        "recall = recall_score(y_test, y_pred, average='weighted')\n",
        "f1 = f1_score(y_test, y_pred, average='weighted')\n",
        "print(f\"Accuracy: {accuracy}\")\n",
        "print(f\"Confusion Matrix:\\n{conf_matrix}\")\n",
        "print(f\"Precision: {precision}\")\n",
        "print(f\"Recall: {recall}\")\n",
        "print(f\"F1 Score: {f1}\")\n"
      ],
      "metadata": {
        "colab": {
          "base_uri": "https://localhost:8080/"
        },
        "id": "009h5m0wkOq0",
        "outputId": "a85503db-5386-41e4-c758-c99172e7dfb6"
      },
      "execution_count": 4,
      "outputs": [
        {
          "output_type": "stream",
          "name": "stdout",
          "text": [
            "Accuracy: 0.8405159176988433\n",
            "Confusion Matrix:\n",
            "[[6781  648]\n",
            " [ 910 1430]]\n",
            "Precision: 0.8353258505260778\n",
            "Recall: 0.8405159176988433\n",
            "F1 Score: 0.8371687607011491\n"
          ]
        }
      ]
    },
    {
      "cell_type": "code",
      "source": [
        "import matplotlib.pyplot as plt\n",
        "plt.matshow(conf_matrix, cmap=plt.cm.Blues)\n",
        "plt.title(\"Confusion Matrix\")\n",
        "plt.colorbar()\n",
        "plt.xlabel(\"Predicted\")\n",
        "plt.ylabel(\"True\")\n",
        "plt.show()"
      ],
      "metadata": {
        "colab": {
          "base_uri": "https://localhost:8080/",
          "height": 417
        },
        "id": "_5tPJ-Mekhwx",
        "outputId": "91a04208-b204-436a-be53-5980047879c0"
      },
      "execution_count": 5,
      "outputs": [
        {
          "output_type": "display_data",
          "data": {
            "text/plain": [
              "<Figure size 480x480 with 2 Axes>"
            ],
            "image/png": "[encoded data removed]"
          },
          "metadata": {}
        }
      ]
    }
  ]
}